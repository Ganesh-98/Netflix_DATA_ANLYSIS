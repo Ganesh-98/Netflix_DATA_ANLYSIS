{
 "cells": [
  {
   "cell_type": "code",
   "execution_count": 1,
   "metadata": {},
   "outputs": [],
   "source": [
    "#Importing the libraries\n",
    "import numpy as np\n",
    "import matplotlib.pyplot as plt\n",
    "import pandas as pd\n",
    "import datetime"
   ]
  },
  {
   "cell_type": "code",
   "execution_count": 2,
   "metadata": {},
   "outputs": [],
   "source": [
    "dataset=pd.read_csv(r'C:\\Users\\GANESH\\Task-1 Data Science\\netflix.csv',index_col=\"Date\",parse_dates=True)"
   ]
  },
  {
   "cell_type": "code",
   "execution_count": 3,
   "metadata": {},
   "outputs": [
    {
     "data": {
      "text/html": [
       "<div>\n",
       "<style scoped>\n",
       "    .dataframe tbody tr th:only-of-type {\n",
       "        vertical-align: middle;\n",
       "    }\n",
       "\n",
       "    .dataframe tbody tr th {\n",
       "        vertical-align: top;\n",
       "    }\n",
       "\n",
       "    .dataframe thead th {\n",
       "        text-align: right;\n",
       "    }\n",
       "</style>\n",
       "<table border=\"1\" class=\"dataframe\">\n",
       "  <thead>\n",
       "    <tr style=\"text-align: right;\">\n",
       "      <th></th>\n",
       "      <th>High</th>\n",
       "      <th>Low</th>\n",
       "      <th>Open</th>\n",
       "      <th>Close</th>\n",
       "      <th>Volume</th>\n",
       "      <th>Adj Close</th>\n",
       "    </tr>\n",
       "    <tr>\n",
       "      <th>Date</th>\n",
       "      <th></th>\n",
       "      <th></th>\n",
       "      <th></th>\n",
       "      <th></th>\n",
       "      <th></th>\n",
       "      <th></th>\n",
       "    </tr>\n",
       "  </thead>\n",
       "  <tbody>\n",
       "    <tr>\n",
       "      <th>2002-05-23</th>\n",
       "      <td>1.242857</td>\n",
       "      <td>1.145714</td>\n",
       "      <td>1.156429</td>\n",
       "      <td>1.196429</td>\n",
       "      <td>104790000.0</td>\n",
       "      <td>1.196429</td>\n",
       "    </tr>\n",
       "    <tr>\n",
       "      <th>2002-05-24</th>\n",
       "      <td>1.225000</td>\n",
       "      <td>1.197143</td>\n",
       "      <td>1.214286</td>\n",
       "      <td>1.210000</td>\n",
       "      <td>11104800.0</td>\n",
       "      <td>1.210000</td>\n",
       "    </tr>\n",
       "    <tr>\n",
       "      <th>2002-05-28</th>\n",
       "      <td>1.232143</td>\n",
       "      <td>1.157143</td>\n",
       "      <td>1.213571</td>\n",
       "      <td>1.157143</td>\n",
       "      <td>6609400.0</td>\n",
       "      <td>1.157143</td>\n",
       "    </tr>\n",
       "    <tr>\n",
       "      <th>2002-05-29</th>\n",
       "      <td>1.164286</td>\n",
       "      <td>1.085714</td>\n",
       "      <td>1.164286</td>\n",
       "      <td>1.103571</td>\n",
       "      <td>6757800.0</td>\n",
       "      <td>1.103571</td>\n",
       "    </tr>\n",
       "    <tr>\n",
       "      <th>2002-05-30</th>\n",
       "      <td>1.107857</td>\n",
       "      <td>1.071429</td>\n",
       "      <td>1.107857</td>\n",
       "      <td>1.071429</td>\n",
       "      <td>10154200.0</td>\n",
       "      <td>1.071429</td>\n",
       "    </tr>\n",
       "  </tbody>\n",
       "</table>\n",
       "</div>"
      ],
      "text/plain": [
       "                High       Low      Open     Close       Volume  Adj Close\n",
       "Date                                                                      \n",
       "2002-05-23  1.242857  1.145714  1.156429  1.196429  104790000.0   1.196429\n",
       "2002-05-24  1.225000  1.197143  1.214286  1.210000   11104800.0   1.210000\n",
       "2002-05-28  1.232143  1.157143  1.213571  1.157143    6609400.0   1.157143\n",
       "2002-05-29  1.164286  1.085714  1.164286  1.103571    6757800.0   1.103571\n",
       "2002-05-30  1.107857  1.071429  1.107857  1.071429   10154200.0   1.071429"
      ]
     },
     "execution_count": 3,
     "metadata": {},
     "output_type": "execute_result"
    }
   ],
   "source": [
    "dataset.head()"
   ]
  },
  {
   "cell_type": "code",
   "execution_count": 4,
   "metadata": {},
   "outputs": [
    {
     "data": {
      "text/plain": [
       "High         False\n",
       "Low          False\n",
       "Open         False\n",
       "Close        False\n",
       "Volume       False\n",
       "Adj Close    False\n",
       "dtype: bool"
      ]
     },
     "execution_count": 4,
     "metadata": {},
     "output_type": "execute_result"
    }
   ],
   "source": [
    "dataset.isna().any()"
   ]
  },
  {
   "cell_type": "code",
   "execution_count": 5,
   "metadata": {},
   "outputs": [
    {
     "name": "stdout",
     "output_type": "stream",
     "text": [
      "<class 'pandas.core.frame.DataFrame'>\n",
      "DatetimeIndex: 4856 entries, 2002-05-23 to 2021-09-03\n",
      "Data columns (total 6 columns):\n",
      " #   Column     Non-Null Count  Dtype  \n",
      "---  ------     --------------  -----  \n",
      " 0   High       4856 non-null   float64\n",
      " 1   Low        4856 non-null   float64\n",
      " 2   Open       4856 non-null   float64\n",
      " 3   Close      4856 non-null   float64\n",
      " 4   Volume     4856 non-null   float64\n",
      " 5   Adj Close  4856 non-null   float64\n",
      "dtypes: float64(6)\n",
      "memory usage: 265.6 KB\n"
     ]
    }
   ],
   "source": [
    "dataset.info()"
   ]
  },
  {
   "cell_type": "code",
   "execution_count": 6,
   "metadata": {},
   "outputs": [
    {
     "data": {
      "text/plain": [
       "<AxesSubplot:xlabel='Date'>"
      ]
     },
     "execution_count": 6,
     "metadata": {},
     "output_type": "execute_result"
    },
    {
     "data": {
      "image/png": "[encoded data removed]",
      "text/plain": [
       "<Figure size 1152x432 with 1 Axes>"
      ]
     },
     "metadata": {
      "needs_background": "light"
     },
     "output_type": "display_data"
    }
   ],
   "source": [
    "dataset['Open'].plot(figsize=(16,6))"
   ]
  },
  {
   "cell_type": "code",
   "execution_count": 7,
   "metadata": {},
   "outputs": [
    {
     "data": {
      "text/html": [
       "<div>\n",
       "<style scoped>\n",
       "    .dataframe tbody tr th:only-of-type {\n",
       "        vertical-align: middle;\n",
       "    }\n",
       "\n",
       "    .dataframe tbody tr th {\n",
       "        vertical-align: top;\n",
       "    }\n",
       "\n",
       "    .dataframe thead th {\n",
       "        text-align: right;\n",
       "    }\n",
       "</style>\n",
       "<table border=\"1\" class=\"dataframe\">\n",
       "  <thead>\n",
       "    <tr style=\"text-align: right;\">\n",
       "      <th></th>\n",
       "      <th>High</th>\n",
       "      <th>Low</th>\n",
       "      <th>Open</th>\n",
       "      <th>Close</th>\n",
       "      <th>Volume</th>\n",
       "      <th>Adj Close</th>\n",
       "    </tr>\n",
       "    <tr>\n",
       "      <th>Date</th>\n",
       "      <th></th>\n",
       "      <th></th>\n",
       "      <th></th>\n",
       "      <th></th>\n",
       "      <th></th>\n",
       "      <th></th>\n",
       "    </tr>\n",
       "  </thead>\n",
       "  <tbody>\n",
       "    <tr>\n",
       "      <th>2002-05-23</th>\n",
       "      <td>NaN</td>\n",
       "      <td>NaN</td>\n",
       "      <td>NaN</td>\n",
       "      <td>NaN</td>\n",
       "      <td>NaN</td>\n",
       "      <td>NaN</td>\n",
       "    </tr>\n",
       "    <tr>\n",
       "      <th>2002-05-24</th>\n",
       "      <td>NaN</td>\n",
       "      <td>NaN</td>\n",
       "      <td>NaN</td>\n",
       "      <td>NaN</td>\n",
       "      <td>NaN</td>\n",
       "      <td>NaN</td>\n",
       "    </tr>\n",
       "    <tr>\n",
       "      <th>2002-05-28</th>\n",
       "      <td>NaN</td>\n",
       "      <td>NaN</td>\n",
       "      <td>NaN</td>\n",
       "      <td>NaN</td>\n",
       "      <td>NaN</td>\n",
       "      <td>NaN</td>\n",
       "    </tr>\n",
       "    <tr>\n",
       "      <th>2002-05-29</th>\n",
       "      <td>NaN</td>\n",
       "      <td>NaN</td>\n",
       "      <td>NaN</td>\n",
       "      <td>NaN</td>\n",
       "      <td>NaN</td>\n",
       "      <td>NaN</td>\n",
       "    </tr>\n",
       "    <tr>\n",
       "      <th>2002-05-30</th>\n",
       "      <td>NaN</td>\n",
       "      <td>NaN</td>\n",
       "      <td>NaN</td>\n",
       "      <td>NaN</td>\n",
       "      <td>NaN</td>\n",
       "      <td>NaN</td>\n",
       "    </tr>\n",
       "    <tr>\n",
       "      <th>2002-05-31</th>\n",
       "      <td>NaN</td>\n",
       "      <td>NaN</td>\n",
       "      <td>NaN</td>\n",
       "      <td>NaN</td>\n",
       "      <td>NaN</td>\n",
       "      <td>NaN</td>\n",
       "    </tr>\n",
       "    <tr>\n",
       "      <th>2002-06-03</th>\n",
       "      <td>1.171429</td>\n",
       "      <td>1.115000</td>\n",
       "      <td>1.145000</td>\n",
       "      <td>1.134796</td>\n",
       "      <td>21576000.0</td>\n",
       "      <td>1.134796</td>\n",
       "    </tr>\n",
       "    <tr>\n",
       "      <th>2002-06-04</th>\n",
       "      <td>1.156735</td>\n",
       "      <td>1.110000</td>\n",
       "      <td>1.142041</td>\n",
       "      <td>1.123571</td>\n",
       "      <td>7049600.0</td>\n",
       "      <td>1.123571</td>\n",
       "    </tr>\n",
       "    <tr>\n",
       "      <th>2002-06-05</th>\n",
       "      <td>1.147347</td>\n",
       "      <td>1.097143</td>\n",
       "      <td>1.127245</td>\n",
       "      <td>1.114592</td>\n",
       "      <td>5682000.0</td>\n",
       "      <td>1.114592</td>\n",
       "    </tr>\n",
       "    <tr>\n",
       "      <th>2002-06-06</th>\n",
       "      <td>1.147347</td>\n",
       "      <td>1.095918</td>\n",
       "      <td>1.118163</td>\n",
       "      <td>1.118163</td>\n",
       "      <td>5067200.0</td>\n",
       "      <td>1.118163</td>\n",
       "    </tr>\n",
       "    <tr>\n",
       "      <th>2002-06-07</th>\n",
       "      <td>1.149286</td>\n",
       "      <td>1.098469</td>\n",
       "      <td>1.120102</td>\n",
       "      <td>1.120306</td>\n",
       "      <td>4297400.0</td>\n",
       "      <td>1.120306</td>\n",
       "    </tr>\n",
       "    <tr>\n",
       "      <th>2002-06-10</th>\n",
       "      <td>1.158878</td>\n",
       "      <td>1.107449</td>\n",
       "      <td>1.123979</td>\n",
       "      <td>1.132449</td>\n",
       "      <td>2916000.0</td>\n",
       "      <td>1.132449</td>\n",
       "    </tr>\n",
       "    <tr>\n",
       "      <th>2002-06-11</th>\n",
       "      <td>1.174592</td>\n",
       "      <td>1.115612</td>\n",
       "      <td>1.135102</td>\n",
       "      <td>1.143469</td>\n",
       "      <td>1850200.0</td>\n",
       "      <td>1.143469</td>\n",
       "    </tr>\n",
       "    <tr>\n",
       "      <th>2002-06-12</th>\n",
       "      <td>1.179286</td>\n",
       "      <td>1.117449</td>\n",
       "      <td>1.145612</td>\n",
       "      <td>1.138367</td>\n",
       "      <td>1657000.0</td>\n",
       "      <td>1.138367</td>\n",
       "    </tr>\n",
       "    <tr>\n",
       "      <th>2002-06-13</th>\n",
       "      <td>1.176735</td>\n",
       "      <td>1.113061</td>\n",
       "      <td>1.141122</td>\n",
       "      <td>1.133367</td>\n",
       "      <td>1580200.0</td>\n",
       "      <td>1.133367</td>\n",
       "    </tr>\n",
       "    <tr>\n",
       "      <th>2002-06-14</th>\n",
       "      <td>1.166224</td>\n",
       "      <td>1.094898</td>\n",
       "      <td>1.137041</td>\n",
       "      <td>1.110408</td>\n",
       "      <td>2044800.0</td>\n",
       "      <td>1.110408</td>\n",
       "    </tr>\n",
       "    <tr>\n",
       "      <th>2002-06-17</th>\n",
       "      <td>1.141531</td>\n",
       "      <td>1.061939</td>\n",
       "      <td>1.117551</td>\n",
       "      <td>1.073265</td>\n",
       "      <td>2409000.0</td>\n",
       "      <td>1.073265</td>\n",
       "    </tr>\n",
       "    <tr>\n",
       "      <th>2002-06-18</th>\n",
       "      <td>1.107449</td>\n",
       "      <td>1.024592</td>\n",
       "      <td>1.083367</td>\n",
       "      <td>1.043571</td>\n",
       "      <td>3757400.0</td>\n",
       "      <td>1.043571</td>\n",
       "    </tr>\n",
       "    <tr>\n",
       "      <th>2002-06-19</th>\n",
       "      <td>1.081939</td>\n",
       "      <td>0.990102</td>\n",
       "      <td>1.051429</td>\n",
       "      <td>1.014286</td>\n",
       "      <td>4471400.0</td>\n",
       "      <td>1.014286</td>\n",
       "    </tr>\n",
       "    <tr>\n",
       "      <th>2002-06-20</th>\n",
       "      <td>1.060714</td>\n",
       "      <td>0.964592</td>\n",
       "      <td>1.025000</td>\n",
       "      <td>0.986225</td>\n",
       "      <td>5201000.0</td>\n",
       "      <td>0.986225</td>\n",
       "    </tr>\n",
       "  </tbody>\n",
       "</table>\n",
       "</div>"
      ],
      "text/plain": [
       "                High       Low      Open     Close      Volume  Adj Close\n",
       "Date                                                                     \n",
       "2002-05-23       NaN       NaN       NaN       NaN         NaN        NaN\n",
       "2002-05-24       NaN       NaN       NaN       NaN         NaN        NaN\n",
       "2002-05-28       NaN       NaN       NaN       NaN         NaN        NaN\n",
       "2002-05-29       NaN       NaN       NaN       NaN         NaN        NaN\n",
       "2002-05-30       NaN       NaN       NaN       NaN         NaN        NaN\n",
       "2002-05-31       NaN       NaN       NaN       NaN         NaN        NaN\n",
       "2002-06-03  1.171429  1.115000  1.145000  1.134796  21576000.0   1.134796\n",
       "2002-06-04  1.156735  1.110000  1.142041  1.123571   7049600.0   1.123571\n",
       "2002-06-05  1.147347  1.097143  1.127245  1.114592   5682000.0   1.114592\n",
       "2002-06-06  1.147347  1.095918  1.118163  1.118163   5067200.0   1.118163\n",
       "2002-06-07  1.149286  1.098469  1.120102  1.120306   4297400.0   1.120306\n",
       "2002-06-10  1.158878  1.107449  1.123979  1.132449   2916000.0   1.132449\n",
       "2002-06-11  1.174592  1.115612  1.135102  1.143469   1850200.0   1.143469\n",
       "2002-06-12  1.179286  1.117449  1.145612  1.138367   1657000.0   1.138367\n",
       "2002-06-13  1.176735  1.113061  1.141122  1.133367   1580200.0   1.133367\n",
       "2002-06-14  1.166224  1.094898  1.137041  1.110408   2044800.0   1.110408\n",
       "2002-06-17  1.141531  1.061939  1.117551  1.073265   2409000.0   1.073265\n",
       "2002-06-18  1.107449  1.024592  1.083367  1.043571   3757400.0   1.043571\n",
       "2002-06-19  1.081939  0.990102  1.051429  1.014286   4471400.0   1.014286\n",
       "2002-06-20  1.060714  0.964592  1.025000  0.986225   5201000.0   0.986225"
      ]
     },
     "execution_count": 7,
     "metadata": {},
     "output_type": "execute_result"
    }
   ],
   "source": [
    "# 7 day rolling mean\n",
    "dataset.rolling(7).mean().head(20)"
   ]
  },
  {
   "cell_type": "code",
   "execution_count": 8,
   "metadata": {},
   "outputs": [
    {
     "data": {
      "text/plain": [
       "<AxesSubplot:xlabel='Date'>"
      ]
     },
     "execution_count": 8,
     "metadata": {},
     "output_type": "execute_result"
    },
    {
     "data": {
      "image/png": "[encoded data removed]",
      "text/plain": [
       "<Figure size 1152x432 with 1 Axes>"
      ]
     },
     "metadata": {
      "needs_background": "light"
     },
     "output_type": "display_data"
    }
   ],
   "source": [
    "dataset['Open'].plot(figsize=(16,6))\n",
    "dataset.rolling(window=120).mean()['Close'].plot()"
   ]
  },
  {
   "cell_type": "code",
   "execution_count": 9,
   "metadata": {},
   "outputs": [
    {
     "data": {
      "text/plain": [
       "<AxesSubplot:xlabel='Date'>"
      ]
     },
     "execution_count": 9,
     "metadata": {},
     "output_type": "execute_result"
    },
    {
     "data": {
      "image/png": "[encoded data removed]",
      "text/plain": [
       "<Figure size 1152x432 with 1 Axes>"
      ]
     },
     "metadata": {
      "needs_background": "light"
     },
     "output_type": "display_data"
    }
   ],
   "source": [
    "#optimal specify a minimum number of periods\n",
    "dataset['Close'].expanding(min_periods=1).mean().plot(figsize=(16,6))"
   ]
  },
  {
   "cell_type": "code",
   "execution_count": 10,
   "metadata": {},
   "outputs": [],
   "source": [
    "training_set=dataset['Open']\n",
    "training_set=pd.DataFrame(training_set)"
   ]
  },
  {
   "cell_type": "code",
   "execution_count": 11,
   "metadata": {},
   "outputs": [
    {
     "data": {
      "text/plain": [
       "High         False\n",
       "Low          False\n",
       "Open         False\n",
       "Close        False\n",
       "Volume       False\n",
       "Adj Close    False\n",
       "dtype: bool"
      ]
     },
     "execution_count": 11,
     "metadata": {},
     "output_type": "execute_result"
    }
   ],
   "source": [
    "#Data cleaning\n",
    "dataset.isna().any()"
   ]
  },
  {
   "cell_type": "code",
   "execution_count": 12,
   "metadata": {},
   "outputs": [],
   "source": [
    "#Feature scaling\n",
    "from sklearn.preprocessing import MinMaxScaler\n",
    "sc=MinMaxScaler(feature_range =(0,1))\n",
    "training_set_scaled=sc.fit_transform(training_set)"
   ]
  },
  {
   "cell_type": "code",
   "execution_count": 13,
   "metadata": {},
   "outputs": [],
   "source": [
    "# Creating a data structure with 60 timestamps and 1 output\n",
    "X_train=[]\n",
    "y_train=[]\n",
    "for i in range(60,4856):\n",
    "    X_train.append(training_set_scaled[i-60:i,0])\n",
    "    y_train.append(training_set_scaled[i,0])\n",
    "X_train,y_train=np.array(X_train),np.array(y_train)\n",
    "\n",
    "#Reshaping\n",
    "X_train =np.reshape(X_train,(X_train.shape[0],X_train.shape[1],1))"
   ]
  },
  {
   "cell_type": "code",
   "execution_count": 14,
   "metadata": {},
   "outputs": [],
   "source": [
    "# Part 2 - Building the RNN\n",
    "#importing the keras libraries and packages\n",
    "from keras.models import Sequential\n",
    "from keras.layers import Dense\n",
    "from keras.layers import LSTM\n",
    "from keras.layers import Dropout\n"
   ]
  },
  {
   "cell_type": "code",
   "execution_count": 15,
   "metadata": {},
   "outputs": [],
   "source": [
    "#initialising the RNN\n",
    "regressor=Sequential()"
   ]
  },
  {
   "cell_type": "code",
   "execution_count": 16,
   "metadata": {},
   "outputs": [],
   "source": [
    "#Adding the first LSTM layer and some Dropout regularisation\n",
    "regressor.add(LSTM(units=50,return_sequences=True,input_shape=(X_train.shape[1],1)))\n",
    "regressor.add(Dropout(0.2))\n",
    "\n",
    "#Adding a second LSTM layer and some Dropout regularisation\n",
    "regressor.add(LSTM(units=50,return_sequences=True))\n",
    "regressor.add(Dropout(0.2))\n",
    "\n",
    "#Adding a third LSTM layer and some Dropout regularisation\n",
    "regressor.add(LSTM(units=50,return_sequences=True))\n",
    "regressor.add(Dropout(0.2))\n",
    "\n",
    "#Adding a fourth LSTM layer and some Dropout regularisation\n",
    "regressor.add(LSTM(units=50))\n",
    "regressor.add(Dropout(0.2))\n",
    "\n",
    "#Adding the output layer\n",
    "regressor.add(Dense(units=1))"
   ]
  },
  {
   "cell_type": "code",
   "execution_count": null,
   "metadata": {},
   "outputs": [
    {
     "name": "stdout",
     "output_type": "stream",
     "text": [
      "Epoch 1/100\n",
      "150/150 [==============================] - 14s 65ms/step - loss: 0.0051\n",
      "Epoch 2/100\n",
      "150/150 [==============================] - 10s 68ms/step - loss: 0.0022\n",
      "Epoch 3/100\n",
      "150/150 [==============================] - 9s 59ms/step - loss: 0.0016\n",
      "Epoch 4/100\n",
      "150/150 [==============================] - 9s 58ms/step - loss: 0.0013\n",
      "Epoch 5/100\n",
      "150/150 [==============================] - 9s 59ms/step - loss: 0.0013\n",
      "Epoch 6/100\n",
      "150/150 [==============================] - 10s 66ms/step - loss: 0.0013\n",
      "Epoch 7/100\n",
      "150/150 [==============================] - 10s 67ms/step - loss: 0.0011\n",
      "Epoch 8/100\n",
      "150/150 [==============================] - 9s 58ms/step - loss: 0.0011\n",
      "Epoch 9/100\n",
      "150/150 [==============================] - 10s 63ms/step - loss: 0.0010\n",
      "Epoch 10/100\n",
      "150/150 [==============================] - 9s 63ms/step - loss: 0.0011\n",
      "Epoch 11/100\n",
      "150/150 [==============================] - 10s 65ms/step - loss: 0.0012\n",
      "Epoch 12/100\n",
      "150/150 [==============================] - 10s 69ms/step - loss: 0.0011\n",
      "Epoch 13/100\n",
      "150/150 [==============================] - 10s 65ms/step - loss: 0.0011\n",
      "Epoch 14/100\n",
      "150/150 [==============================] - 9s 60ms/step - loss: 0.0011\n",
      "Epoch 15/100\n",
      "150/150 [==============================] - 9s 62ms/step - loss: 0.0011\n",
      "Epoch 16/100\n",
      "150/150 [==============================] - 12s 78ms/step - loss: 9.2681e-04\n",
      "Epoch 17/100\n",
      "150/150 [==============================] - 14s 90ms/step - loss: 9.9444e-04\n",
      "Epoch 18/100\n",
      "150/150 [==============================] - 13s 84ms/step - loss: 9.4365e-04\n",
      "Epoch 19/100\n",
      "150/150 [==============================] - 12s 81ms/step - loss: 8.9145e-04\n",
      "Epoch 20/100\n",
      "150/150 [==============================] - 13s 87ms/step - loss: 8.3898e-04\n",
      "Epoch 21/100\n",
      "129/150 [========================>.....] - ETA: 1s - loss: 8.8527e-04"
     ]
    }
   ],
   "source": [
    "#Compiling the RNN\n",
    "regressor.compile(optimizer='adam',loss='mean_squared_error')\n",
    "\n",
    "#Fitting the RNN to the training set\n",
    "regressor.fit(X_train,y_train,epochs=100,batch_size=32)"
   ]
  },
  {
   "cell_type": "code",
   "execution_count": null,
   "metadata": {},
   "outputs": [],
   "source": [
    "#Part 3-Making the predictions and visualizing the result\n",
    "#getting the real stock price of 2021\n",
    "dataset_test=pd.read_csv(r'C:\\Users\\GANESH\\Task-1 Data Science\\netflix.csv',index_col=\"Date\",parse_dates=True)"
   ]
  },
  {
   "cell_type": "code",
   "execution_count": null,
   "metadata": {},
   "outputs": [],
   "source": [
    "real_stock_price=dataset_test.iloc[:,1:2].values"
   ]
  },
  {
   "cell_type": "code",
   "execution_count": null,
   "metadata": {},
   "outputs": [],
   "source": [
    "dataset_test.head()"
   ]
  },
  {
   "cell_type": "code",
   "execution_count": null,
   "metadata": {},
   "outputs": [],
   "source": [
    "dataset_test.info()"
   ]
  },
  {
   "cell_type": "code",
   "execution_count": null,
   "metadata": {},
   "outputs": [],
   "source": [
    "test_set=dataset_test['Open']\n",
    "test_set=pd.DataFrame(test_set)"
   ]
  },
  {
   "cell_type": "code",
   "execution_count": null,
   "metadata": {},
   "outputs": [],
   "source": [
    "test_set.info()"
   ]
  },
  {
   "cell_type": "code",
   "execution_count": null,
   "metadata": {},
   "outputs": [],
   "source": [
    "#Getting the predicted stock price of 2021\n",
    "dataset_total=pd.concat((dataset['Open'],dataset_test['Open']),axis=0)\n",
    "inputs=dataset_total[len(dataset_total)-len(dataset_test)-60:].values\n",
    "inputs=inputs.reshape(-1,1)\n",
    "inputs=sc.transform(inputs)\n",
    "X_test=[]\n",
    "for i in range(60,4857):\n",
    "    X_test.append(inputs[i-60:i,0])\n",
    "X_test=np.array(X_test)\n",
    "X_test=np.reshape(X_test,(X_test.shape[0],X_test.shape[1],1))\n",
    "predicted_stock_price=regressor.predict(X_test)\n",
    "predicted_stock_price=sc.inverse_transform(predicted_stock_price)"
   ]
  },
  {
   "cell_type": "code",
   "execution_count": null,
   "metadata": {},
   "outputs": [],
   "source": [
    "predicted_stock_price=pd.DataFrame(predicted_stock_price)\n",
    "predicted_stock_price.info()"
   ]
  },
  {
   "cell_type": "code",
   "execution_count": null,
   "metadata": {},
   "outputs": [],
   "source": [
    "#Visualising the results\n",
    "plot.plot(real_stock_price,color='red',label='Real Netflix Stock Price')\n",
    "plot.plot(predicted_stock_price,color='blue',label='Predictor Netflix Stock Price')\n",
    "plot.title('Netflix Stock Price Prediction')\n",
    "plot.xlabel('Time')\n",
    "plot.ylabel('Netflix Stock Price')\n",
    "plot.legend()\n",
    "plot.show()"
   ]
  },
  {
   "cell_type": "code",
   "execution_count": null,
   "metadata": {},
   "outputs": [],
   "source": []
  },
  {
   "cell_type": "code",
   "execution_count": null,
   "metadata": {},
   "outputs": [],
   "source": []
  }
 ],
 "metadata": {
  "kernelspec": {
   "display_name": "Python 3",
   "language": "python",
   "name": "python3"
  },
  "language_info": {
   "codemirror_mode": {
    "name": "ipython",
    "version": 3
   },
   "file_extension": ".py",
   "mimetype": "text/x-python",
   "name": "python",
   "nbconvert_exporter": "python",
   "pygments_lexer": "ipython3",
   "version": "3.8.5"
  }
 },
 "nbformat": 4,
 "nbformat_minor": 5
}
